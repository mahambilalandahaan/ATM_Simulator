{
  "nbformat": 4,
  "nbformat_minor": 0,
  "metadata": {
    "colab": {
      "provenance": []
    },
    "kernelspec": {
      "name": "python3",
      "display_name": "Python 3"
    },
    "language_info": {
      "name": "python"
    }
  },
  "cells": [
    {
      "cell_type": "code",
      "execution_count": null,
      "metadata": {
        "id": "pnZKqP9D4fgL"
      },
      "outputs": [],
      "source": [
        "# 🏧 ATM SIMULATOR\n",
        "\n",
        "balance = 1000  # initial balance\n",
        "\n",
        "print(\"\"\"\n",
        "1️⃣  Check Balance\n",
        "2️⃣  Deposit Money\n",
        "3️⃣  Withdraw Money\n",
        "4️⃣  Exit\n",
        "\"\"\")\n",
        "\n",
        "while True:\n",
        "    choice = input(\"Enter your choice (1–4): \").strip()\n",
        "\n",
        "    # 1️⃣ Check balance\n",
        "    if choice == \"1\":\n",
        "        print(f\"💰 Your current balance is: Rs. {balance}\")\n",
        "\n",
        "    # 2️⃣ Deposit\n",
        "    elif choice == \"2\":\n",
        "        try:\n",
        "            deposit = int(input(\"Enter amount to deposit: \"))\n",
        "            if deposit <= 0:\n",
        "                print(\"⚠️ Please enter a valid positive amount.\")\n",
        "            else:\n",
        "                balance += deposit\n",
        "                print(f\"✅ Deposit successful! New balance: Rs. {balance}\")\n",
        "        except ValueError:\n",
        "            print(\"⚠️ Please enter a valid number.\")\n",
        "\n",
        "    # 3️⃣ Withdraw\n",
        "    elif choice == \"3\":\n",
        "        try:\n",
        "            withdraw = int(input(\"Enter amount to withdraw: \"))\n",
        "            if withdraw <= 0:\n",
        "                print(\"⚠️ Please enter a valid positive amount.\")\n",
        "            elif withdraw > balance:\n",
        "                print(\"❌ Insufficient balance.\")\n",
        "            else:\n",
        "                balance -= withdraw\n",
        "                print(f\"✅ You have withdrawn Rs. {withdraw}.\")\n",
        "                print(f\"💳 Remaining balance: Rs. {balance}\")\n",
        "        except ValueError:\n",
        "            print(\"⚠️ Please enter a valid number.\")\n",
        "\n",
        "    # 4️⃣ Exit\n",
        "    elif choice == \"4\":\n",
        "        print(\"👋 Thank you for using our ATM. Goodbye!\")\n",
        "        break\n",
        "\n",
        "    else:\n",
        "        print(\"⚠️ Invalid choice! Please enter a number between 1 and 4.\")\n"
      ]
    }
  ]
}